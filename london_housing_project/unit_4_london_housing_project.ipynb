{
 "cells": [
  {
   "cell_type": "markdown",
   "metadata": {
    "colab_type": "text",
    "id": "Tia3MP1SJpgj"
   },
   "source": [
    "# Springboard Data Science Career Track Unit 4 Challenge - Tier 3 Complete\n",
    "\n",
    "## Objectives\n",
    "Hey! Great job getting through those challenging DataCamp courses. You're learning a lot in a short span of time. \n",
    "\n",
    "In this notebook, you're going to apply the skills you've been learning, bridging the gap between the controlled environment of DataCamp and the *slightly* messier work that data scientists do with actual datasets!\n",
    "\n",
    "Here’s the mystery we’re going to solve: ***which boroughs of London have seen the greatest increase in housing prices, on average, over the last two decades?***\n",
    "\n",
    "\n",
    "A borough is just a fancy word for district. You may be familiar with the five boroughs of New York… well, there are 32 boroughs within Greater London [(here's some info for the curious)](https://en.wikipedia.org/wiki/London_boroughs). Some of them are more desirable areas to live in, and the data will reflect that with a greater rise in housing prices.\n",
    "\n",
    "***This is the Tier 3 notebook, which means it's not filled in at all: we'll just give you the skeleton of a project, the brief and the data. It's up to you to play around with it and see what you can find out! Good luck! If you struggle, feel free to look at easier tiers for help; but try to dip in and out of them, as the more independent work you do, the better it is for your learning!***\n",
    "\n",
    "This challenge will make use of only what you learned in the following DataCamp courses: \n",
    "- Prework courses (Introduction to Python for Data Science, Intermediate Python for Data Science)\n",
    "- Data Types for Data Science\n",
    "- Python Data Science Toolbox (Part One) \n",
    "- pandas Foundations\n",
    "- Manipulating DataFrames with pandas\n",
    "- Merging DataFrames with pandas\n",
    "\n",
    "Of the tools, techniques and concepts in the above DataCamp courses, this challenge should require the application of the following: \n",
    "- **pandas**\n",
    "    - **data ingestion and inspection** (pandas Foundations, Module One) \n",
    "    - **exploratory data analysis** (pandas Foundations, Module Two)\n",
    "    - **tidying and cleaning** (Manipulating DataFrames with pandas, Module Three) \n",
    "    - **transforming DataFrames** (Manipulating DataFrames with pandas, Module One)\n",
    "    - **subsetting DataFrames with lists** (Manipulating DataFrames with pandas, Module One) \n",
    "    - **filtering DataFrames** (Manipulating DataFrames with pandas, Module One) \n",
    "    - **grouping data** (Manipulating DataFrames with pandas, Module Four) \n",
    "    - **melting data** (Manipulating DataFrames with pandas, Module Three) \n",
    "    - **advanced indexing** (Manipulating DataFrames with pandas, Module Four) \n",
    "- **matplotlib** (Intermediate Python for Data Science, Module One)\n",
    "- **fundamental data types** (Data Types for Data Science, Module One) \n",
    "- **dictionaries** (Intermediate Python for Data Science, Module Two)\n",
    "- **handling dates and times** (Data Types for Data Science, Module Four)\n",
    "- **function definition** (Python Data Science Toolbox - Part One, Module One)\n",
    "- **default arguments, variable length, and scope** (Python Data Science Toolbox - Part One, Module Two) \n",
    "- **lambda functions and error handling** (Python Data Science Toolbox - Part One, Module Four) "
   ]
  },
  {
   "cell_type": "markdown",
   "metadata": {
    "colab_type": "text",
    "id": "Ipgd2nV8Jpgl"
   },
   "source": [
    "## The Data Science Pipeline\n",
    "\n",
    "This is Tier Three, so we'll get you started. But after that, it's all in your hands! When you feel done with your investigations, look back over what you've accomplished, and prepare a quick presentation of your findings for the next mentor meeting. \n",
    "\n",
    "Data Science is magical. In this case study, you'll get to apply some complex machine learning algorithms. But as  [David Spiegelhalter](https://www.youtube.com/watch?v=oUs1uvsz0Ok) reminds us, there is no substitute for simply **taking a really, really good look at the data.** Sometimes, this is all we need to answer our question.\n",
    "\n",
    "Data Science projects generally adhere to the four stages of Data Science Pipeline:\n",
    "1. Sourcing and loading \n",
    "2. Cleaning, transforming, and visualizing \n",
    "3. Modeling \n",
    "4. Evaluating and concluding \n"
   ]
  },
  {
   "cell_type": "markdown",
   "metadata": {
    "colab_type": "text",
    "id": "zswDqbefJpgm"
   },
   "source": [
    "### 1. Sourcing and Loading \n",
    "\n",
    "Any Data Science project kicks off by importing  ***pandas***. The documentation of this wonderful library can be found [here](https://pandas.pydata.org/). As you've seen, pandas is conveniently connected to the [Numpy](http://www.numpy.org/) and [Matplotlib](https://matplotlib.org/) libraries. \n",
    "\n",
    "***Hint:*** This part of the data science pipeline will test those skills you acquired in the pandas Foundations course, Module One. "
   ]
  },
  {
   "cell_type": "markdown",
   "metadata": {
    "colab_type": "text",
    "id": "aEau5nEvJpgm"
   },
   "source": [
    "#### 1.1. Importing Libraries"
   ]
  },
  {
   "cell_type": "code",
   "execution_count": 95,
   "metadata": {
    "colab": {},
    "colab_type": "code",
    "id": "7Bt_Q_oPJpgn"
   },
   "outputs": [],
   "source": [
    "# Let's import the pandas, numpy libraries as pd, and np respectively. \n",
    "import pandas as pd\n",
    "import numpy as np\n",
    "\n",
    "# Load the pyplot collection of functions from matplotlib, as plt \n",
    "from matplotlib import pyplot as plt"
   ]
  },
  {
   "cell_type": "markdown",
   "metadata": {
    "colab_type": "text",
    "id": "koUrawxsJpgq"
   },
   "source": [
    "#### 1.2.  Loading the data\n",
    "Your data comes from the [London Datastore](https://data.london.gov.uk/): a free, open-source data-sharing portal for London-oriented datasets. "
   ]
  },
  {
   "cell_type": "code",
   "execution_count": 96,
   "metadata": {
    "colab": {},
    "colab_type": "code",
    "id": "AiLiD4v3Jpgr"
   },
   "outputs": [],
   "source": [
    "# First, make a variable called url_LondonHousePrices, and assign it the following link, enclosed in quotation-marks as a string:\n",
    "# https://data.london.gov.uk/download/uk-house-price-index/70ac0766-8902-4eb5-aab5-01951aaed773/UK%20House%20price%20index.xls\n",
    "\n",
    "url_LondonHousePrices = \"https://data.london.gov.uk/download/uk-house-price-index/70ac0766-8902-4eb5-aab5-01951aaed773/UK%20House%20price%20index.xls\"\n",
    "\n",
    "# The dataset we're interested in contains the Average prices of the houses, and is actually on a particular sheet of the Excel file. \n",
    "# As a result, we need to specify the sheet name in the read_excel() method.\n",
    "# Put this data into a variable called properties.  \n",
    "properties = pd.read_excel(url_LondonHousePrices, sheet_name='Average price', index_col= None)"
   ]
  },
  {
   "cell_type": "markdown",
   "metadata": {
    "colab_type": "text",
    "id": "POukEJXgJpgu"
   },
   "source": [
    "### 2. Cleaning, transforming, and visualizing\n",
    "This second stage is arguably the most important part of any Data Science project. The first thing to do is take a proper look at the data. Cleaning forms the majority of this stage, and can be done both before or after Transformation.\n",
    "\n",
    "The end goal of data cleaning is to have tidy data. When data is tidy: \n",
    "\n",
    "1. Each variable has a column.\n",
    "2. Each observation forms a row.\n",
    "\n",
    "Keep the end goal in mind as you move through this process, every step will take you closer. \n",
    "\n",
    "\n",
    "\n",
    "***Hint:*** This part of the data science pipeline should test those skills you acquired in: \n",
    "- Intermediate Python for data science, all modules.\n",
    "- pandas Foundations, all modules. \n",
    "- Manipulating DataFrames with pandas, all modules.\n",
    "- Data Types for Data Science, Module Four.\n",
    "- Python Data Science Toolbox - Part One, all modules"
   ]
  },
  {
   "cell_type": "markdown",
   "metadata": {
    "colab_type": "text",
    "id": "Te0Q548tnzZa"
   },
   "source": [
    "**2.1. Exploring your data** \n",
    "\n",
    "Think about your pandas functions for checking out a dataframe. "
   ]
  },
  {
   "cell_type": "code",
   "execution_count": 97,
   "metadata": {
    "colab": {},
    "colab_type": "code",
    "id": "Rxirxw_qoAJa"
   },
   "outputs": [
    {
     "name": "stdout",
     "output_type": "stream",
     "text": [
      "  Unnamed: 0 City of London Barking & Dagenham       Barnet       Bexley  \\\n",
      "0        NaT      E09000001          E09000002    E09000003    E09000004   \n",
      "1 1995-01-01    91448.98487         50460.2266  93284.51832  64958.09036   \n",
      "2 1995-02-01    82202.77314        51085.77983  93190.16963  64787.92069   \n",
      "3 1995-03-01    79120.70256        51268.96956  92247.52435  64367.49344   \n",
      "4 1995-04-01    77101.20804        53133.50526  90762.87492  64277.66881   \n",
      "\n",
      "         Brent      Bromley       Camden      Croydon       Ealing  ...  \\\n",
      "0    E09000005    E09000006    E09000007    E09000008    E09000009  ...   \n",
      "1  71306.56698  81671.47692  120932.8881  69158.16225  79885.89069  ...   \n",
      "2  72022.26197  81657.55944  119508.8622  68951.09542  80897.06551  ...   \n",
      "3  72015.76274  81449.31143  120282.2131  68712.44341  81379.86288  ...   \n",
      "4  72965.63094  81124.41227   120097.899  68610.04641  82188.90498  ...   \n",
      "\n",
      "    NORTH WEST YORKS & THE HUMBER EAST MIDLANDS WEST MIDLANDS EAST OF ENGLAND  \\\n",
      "0    E12000002          E12000003     E12000004     E12000005       E12000006   \n",
      "1  43958.48001        44803.42878   45544.52227   48527.52339      56701.5961   \n",
      "2  43925.42289        44528.80721   46051.57066   49341.29029     56593.59475   \n",
      "3   44434.8681        45200.46775   45383.82395   49442.17973     56171.18278   \n",
      "4   44267.7796        45614.34341   46124.23045   49455.93299     56567.89582   \n",
      "\n",
      "        LONDON   SOUTH EAST   SOUTH WEST Unnamed: 47      England  \n",
      "0    E12000007    E12000008    E12000009         NaN    E92000001  \n",
      "1  74435.76052  64018.87894   54705.1579         NaN  53202.77128  \n",
      "2  72777.93709  63715.02399  54356.14843         NaN   53096.1549  \n",
      "3  73896.84204  64113.60858  53583.07667         NaN   53201.2843  \n",
      "4  74455.28754  64623.22395  54786.01938         NaN   53590.8548  \n",
      "\n",
      "[5 rows x 49 columns]\n",
      "<class 'pandas.core.frame.DataFrame'>\n",
      "RangeIndex: 320 entries, 0 to 319\n",
      "Data columns (total 49 columns):\n",
      " #   Column                Non-Null Count  Dtype         \n",
      "---  ------                --------------  -----         \n",
      " 0   Unnamed: 0            319 non-null    datetime64[ns]\n",
      " 1   City of London        320 non-null    object        \n",
      " 2   Barking & Dagenham    320 non-null    object        \n",
      " 3   Barnet                320 non-null    object        \n",
      " 4   Bexley                320 non-null    object        \n",
      " 5   Brent                 320 non-null    object        \n",
      " 6   Bromley               320 non-null    object        \n",
      " 7   Camden                320 non-null    object        \n",
      " 8   Croydon               320 non-null    object        \n",
      " 9   Ealing                320 non-null    object        \n",
      " 10  Enfield               320 non-null    object        \n",
      " 11  Greenwich             320 non-null    object        \n",
      " 12  Hackney               320 non-null    object        \n",
      " 13  Hammersmith & Fulham  320 non-null    object        \n",
      " 14  Haringey              320 non-null    object        \n",
      " 15  Harrow                320 non-null    object        \n",
      " 16  Havering              320 non-null    object        \n",
      " 17  Hillingdon            320 non-null    object        \n",
      " 18  Hounslow              320 non-null    object        \n",
      " 19  Islington             320 non-null    object        \n",
      " 20  Kensington & Chelsea  320 non-null    object        \n",
      " 21  Kingston upon Thames  320 non-null    object        \n",
      " 22  Lambeth               320 non-null    object        \n",
      " 23  Lewisham              320 non-null    object        \n",
      " 24  Merton                320 non-null    object        \n",
      " 25  Newham                320 non-null    object        \n",
      " 26  Redbridge             320 non-null    object        \n",
      " 27  Richmond upon Thames  320 non-null    object        \n",
      " 28  Southwark             320 non-null    object        \n",
      " 29  Sutton                320 non-null    object        \n",
      " 30  Tower Hamlets         320 non-null    object        \n",
      " 31  Waltham Forest        320 non-null    object        \n",
      " 32  Wandsworth            320 non-null    object        \n",
      " 33  Westminster           320 non-null    object        \n",
      " 34  Unnamed: 34           0 non-null      float64       \n",
      " 35  Inner London          320 non-null    object        \n",
      " 36  Outer London          320 non-null    object        \n",
      " 37  Unnamed: 37           0 non-null      float64       \n",
      " 38  NORTH EAST            320 non-null    object        \n",
      " 39  NORTH WEST            320 non-null    object        \n",
      " 40  YORKS & THE HUMBER    320 non-null    object        \n",
      " 41  EAST MIDLANDS         320 non-null    object        \n",
      " 42  WEST MIDLANDS         320 non-null    object        \n",
      " 43  EAST OF ENGLAND       320 non-null    object        \n",
      " 44  LONDON                320 non-null    object        \n",
      " 45  SOUTH EAST            320 non-null    object        \n",
      " 46  SOUTH WEST            320 non-null    object        \n",
      " 47  Unnamed: 47           0 non-null      float64       \n",
      " 48  England               320 non-null    object        \n",
      "dtypes: datetime64[ns](1), float64(3), object(45)\n",
      "memory usage: 122.6+ KB\n",
      "None\n"
     ]
    }
   ],
   "source": [
    "#Lets look at basic structure and info\n",
    "print(properties.head())\n",
    "print(properties.info())"
   ]
  },
  {
   "cell_type": "markdown",
   "metadata": {
    "colab_type": "text",
    "id": "tE9Sqt9-oAta"
   },
   "source": [
    "**2.2. Cleaning the data**\n",
    "\n",
    "You might find you need to transpose your dataframe, check out what its row indexes are, and reset the index. You  also might find you need to assign the values of the first row to your column headings  . (Hint: recall the .columns feature of DataFrames, as well as the iloc[] method).\n",
    "\n",
    "Don't be afraid to use StackOverflow for help  with this."
   ]
  },
  {
   "cell_type": "code",
   "execution_count": 98,
   "metadata": {
    "colab": {},
    "colab_type": "code",
    "id": "cdAu1A3YoH_r"
   },
   "outputs": [
    {
     "name": "stdout",
     "output_type": "stream",
     "text": [
      "0          Unnamed: 0        NaN 1995-01-01 00:00:00 1995-02-01 00:00:00  \\\n",
      "0      City of London  E09000001         91448.98487         82202.77314   \n",
      "1  Barking & Dagenham  E09000002          50460.2266         51085.77983   \n",
      "2              Barnet  E09000003         93284.51832         93190.16963   \n",
      "3              Bexley  E09000004         64958.09036         64787.92069   \n",
      "4               Brent  E09000005         71306.56698         72022.26197   \n",
      "\n",
      "0 1995-03-01 00:00:00 1995-04-01 00:00:00 1995-05-01 00:00:00  \\\n",
      "0         79120.70256         77101.20804         84409.14932   \n",
      "1         51268.96956         53133.50526         53042.24852   \n",
      "2         92247.52435         90762.87492         90258.00033   \n",
      "3         64367.49344         64277.66881         63997.13588   \n",
      "4         72015.76274         72965.63094         73704.04743   \n",
      "\n",
      "0 1995-06-01 00:00:00 1995-07-01 00:00:00 1995-08-01 00:00:00  ...  \\\n",
      "0         94900.51244         110128.0423         112329.4376  ...   \n",
      "1         53700.34831         52113.12157         52232.19868  ...   \n",
      "2         90107.23471         91441.24768         92361.31512  ...   \n",
      "3         64252.32335         63722.70055         64432.60005  ...   \n",
      "4         74310.48167         74127.03788          73547.0411  ...   \n",
      "\n",
      "0 2020-10-01 00:00:00 2020-11-01 00:00:00 2020-12-01 00:00:00  \\\n",
      "0         836807.0518         769391.7847         801999.0466   \n",
      "1         304852.1338         305012.3291         309560.1023   \n",
      "2         530353.5205         528816.4928         532528.0926   \n",
      "3         345404.9836         346252.9145         352260.8385   \n",
      "4         522239.3216          513100.814         495066.6459   \n",
      "\n",
      "0 2021-01-01 00:00:00 2021-02-01 00:00:00 2021-03-01 00:00:00  \\\n",
      "0          758223.177         726754.5075         716134.7251   \n",
      "1         312407.4064          315579.786         312628.0133   \n",
      "2         537359.2451         536018.2862         537926.5083   \n",
      "3         355868.9627         359058.8249         361699.9348   \n",
      "4         511212.1973         512929.0039         518124.7903   \n",
      "\n",
      "0 2021-04-01 00:00:00 2021-05-01 00:00:00 2021-06-01 00:00:00  \\\n",
      "0         760051.6536         776621.1261         801233.1104   \n",
      "1         313597.7068         312605.4862         318516.8477   \n",
      "2         530345.4479         533994.1495          543215.327   \n",
      "3         362288.7152         360494.8707         362509.0601   \n",
      "4         501308.1063         506219.4972         516632.9293   \n",
      "\n",
      "0 2021-07-01 00:00:00  \n",
      "0         705090.7682  \n",
      "1         322949.0355  \n",
      "2         536926.1758  \n",
      "3         366710.0491  \n",
      "4         535095.1645  \n",
      "\n",
      "[5 rows x 321 columns]\n"
     ]
    }
   ],
   "source": [
    "#First, need to transpose the data to get boroughs as rows\n",
    "properties_tp = properties.transpose().reset_index()\n",
    "\n",
    "#We can then reset row and column indices\n",
    "properties_tp.columns = properties_tp.iloc[0]\n",
    "properties_tp = properties_tp[1:].reset_index(drop=True)\n",
    "print(properties_tp.head())"
   ]
  },
  {
   "cell_type": "markdown",
   "metadata": {
    "colab_type": "text",
    "id": "o1uLbJAsoIjK"
   },
   "source": [
    "**2.3. Cleaning the data (part 2)**\n",
    "\n",
    "You might we have to **rename** a couple columns. How do you do this? The clue's pretty bold..."
   ]
  },
  {
   "cell_type": "code",
   "execution_count": 99,
   "metadata": {
    "colab": {},
    "colab_type": "code",
    "id": "GKkmn1AnoVZS"
   },
   "outputs": [
    {
     "name": "stdout",
     "output_type": "stream",
     "text": [
      "0            boroughs         id 1995-01-01 00:00:00 1995-02-01 00:00:00  \\\n",
      "0      City of London  E09000001         91448.98487         82202.77314   \n",
      "1  Barking & Dagenham  E09000002          50460.2266         51085.77983   \n",
      "2              Barnet  E09000003         93284.51832         93190.16963   \n",
      "3              Bexley  E09000004         64958.09036         64787.92069   \n",
      "4               Brent  E09000005         71306.56698         72022.26197   \n",
      "\n",
      "0 1995-03-01 00:00:00 1995-04-01 00:00:00 1995-05-01 00:00:00  \\\n",
      "0         79120.70256         77101.20804         84409.14932   \n",
      "1         51268.96956         53133.50526         53042.24852   \n",
      "2         92247.52435         90762.87492         90258.00033   \n",
      "3         64367.49344         64277.66881         63997.13588   \n",
      "4         72015.76274         72965.63094         73704.04743   \n",
      "\n",
      "0 1995-06-01 00:00:00 1995-07-01 00:00:00 1995-08-01 00:00:00  ...  \\\n",
      "0         94900.51244         110128.0423         112329.4376  ...   \n",
      "1         53700.34831         52113.12157         52232.19868  ...   \n",
      "2         90107.23471         91441.24768         92361.31512  ...   \n",
      "3         64252.32335         63722.70055         64432.60005  ...   \n",
      "4         74310.48167         74127.03788          73547.0411  ...   \n",
      "\n",
      "0 2020-10-01 00:00:00 2020-11-01 00:00:00 2020-12-01 00:00:00  \\\n",
      "0         836807.0518         769391.7847         801999.0466   \n",
      "1         304852.1338         305012.3291         309560.1023   \n",
      "2         530353.5205         528816.4928         532528.0926   \n",
      "3         345404.9836         346252.9145         352260.8385   \n",
      "4         522239.3216          513100.814         495066.6459   \n",
      "\n",
      "0 2021-01-01 00:00:00 2021-02-01 00:00:00 2021-03-01 00:00:00  \\\n",
      "0          758223.177         726754.5075         716134.7251   \n",
      "1         312407.4064          315579.786         312628.0133   \n",
      "2         537359.2451         536018.2862         537926.5083   \n",
      "3         355868.9627         359058.8249         361699.9348   \n",
      "4         511212.1973         512929.0039         518124.7903   \n",
      "\n",
      "0 2021-04-01 00:00:00 2021-05-01 00:00:00 2021-06-01 00:00:00  \\\n",
      "0         760051.6536         776621.1261         801233.1104   \n",
      "1         313597.7068         312605.4862         318516.8477   \n",
      "2         530345.4479         533994.1495          543215.327   \n",
      "3         362288.7152         360494.8707         362509.0601   \n",
      "4         501308.1063         506219.4972         516632.9293   \n",
      "\n",
      "0 2021-07-01 00:00:00  \n",
      "0         705090.7682  \n",
      "1         322949.0355  \n",
      "2         536926.1758  \n",
      "3         366710.0491  \n",
      "4         535095.1645  \n",
      "\n",
      "[5 rows x 321 columns]\n"
     ]
    }
   ],
   "source": [
    "#Only need to rename two columns, the rest are dates which we will need to create a separate column for later.\n",
    "properties_tp.rename(columns = {'Unnamed: 0':'boroughs', '':'id'}, inplace=True)\n",
    "properties_tp.columns.values[1] = 'id'\n",
    "print(properties_tp.head())"
   ]
  },
  {
   "cell_type": "markdown",
   "metadata": {
    "colab_type": "text",
    "id": "jy8BzXHmoWEw"
   },
   "source": [
    "**2.4.Transforming the data**\n",
    "\n",
    "Remember what Wes McKinney said about tidy data? \n",
    "\n",
    "You might need to **melt** your DataFrame here. "
   ]
  },
  {
   "cell_type": "code",
   "execution_count": 100,
   "metadata": {
    "colab": {},
    "colab_type": "code",
    "id": "S2wM0qLuo2Zt"
   },
   "outputs": [
    {
     "name": "stdout",
     "output_type": "stream",
     "text": [
      "             boroughs         id       date    avg_price\n",
      "0      City of London  E09000001 1995-01-01  91448.98487\n",
      "1  Barking & Dagenham  E09000002 1995-01-01   50460.2266\n",
      "2              Barnet  E09000003 1995-01-01  93284.51832\n",
      "3              Bexley  E09000004 1995-01-01  64958.09036\n",
      "4               Brent  E09000005 1995-01-01  71306.56698\n"
     ]
    }
   ],
   "source": [
    "#tidy format gives dates it's own column rather than each date being a separate column. Makes the data much more usable\n",
    "properties_tidy = properties_tp.melt(id_vars = ['boroughs','id'], var_name = 'date', value_name = 'avg_price')\n",
    "print(properties_tidy.head())"
   ]
  },
  {
   "cell_type": "markdown",
   "metadata": {
    "colab_type": "text",
    "id": "7kIsgAo7o3mf"
   },
   "source": [
    "Remember to make sure your column data types are all correct. Average prices, for example, should be floating point numbers... "
   ]
  },
  {
   "cell_type": "code",
   "execution_count": 101,
   "metadata": {
    "colab": {},
    "colab_type": "code",
    "id": "ZcR4IHbcpOaq"
   },
   "outputs": [
    {
     "name": "stdout",
     "output_type": "stream",
     "text": [
      "<class 'pandas.core.frame.DataFrame'>\n",
      "RangeIndex: 15312 entries, 0 to 15311\n",
      "Data columns (total 4 columns):\n",
      " #   Column     Non-Null Count  Dtype         \n",
      "---  ------     --------------  -----         \n",
      " 0   boroughs   15312 non-null  object        \n",
      " 1   id         14355 non-null  object        \n",
      " 2   date       15312 non-null  datetime64[ns]\n",
      " 3   avg_price  14355 non-null  float64       \n",
      "dtypes: datetime64[ns](1), float64(1), object(2)\n",
      "memory usage: 478.6+ KB\n"
     ]
    }
   ],
   "source": [
    "#Want to make boroughs and id string types, avg_price a float type, and no change to date since this is already datetime\n",
    "properties_tidy['avg_price'] = properties_tidy['avg_price'].astype('float')\n",
    "properties_tidy.info()"
   ]
  },
  {
   "cell_type": "markdown",
   "metadata": {
    "colab_type": "text",
    "id": "knLUXHLypOtw"
   },
   "source": [
    "**2.5. Cleaning the data (part 3)**\n",
    "\n",
    "Do we have an equal number of observations in the ID, Average Price, Month, and London Borough columns? Remember that there are only 32 London Boroughs. How many entries do you have in that column? \n",
    "\n",
    "Check out the contents of the London Borough column, and if you find null values, get rid of them however you see fit. "
   ]
  },
  {
   "cell_type": "code",
   "execution_count": 102,
   "metadata": {
    "colab": {},
    "colab_type": "code",
    "id": "BnvTW5a3p0fC"
   },
   "outputs": [
    {
     "name": "stdout",
     "output_type": "stream",
     "text": [
      "boroughs       0\n",
      "id           957\n",
      "date           0\n",
      "avg_price    957\n",
      "dtype: int64\n",
      "boroughs     0\n",
      "id           0\n",
      "date         0\n",
      "avg_price    0\n",
      "dtype: int64\n"
     ]
    }
   ],
   "source": [
    "#let's check if there are any null values in the boroughs column\n",
    "print(properties_tidy.isna().sum())\n",
    "properties_tidy = properties_tidy.dropna()\n",
    "print(properties_tidy.isna().sum())"
   ]
  },
  {
   "cell_type": "markdown",
   "metadata": {
    "colab_type": "text",
    "id": "PGEx6mJsp6dG"
   },
   "source": [
    "**2.6. Visualizing the data**\n",
    "\n",
    "To visualize the data, why not subset on a particular London Borough? Maybe do a line plot of Month against Average Price?"
   ]
  },
  {
   "cell_type": "code",
   "execution_count": 103,
   "metadata": {
    "colab": {},
    "colab_type": "code",
    "id": "nAg5pT9cqHAR"
   },
   "outputs": [
    {
     "data": {
      "image/png": "[encoded data removed]",
      "text/plain": [
       "<Figure size 432x288 with 1 Axes>"
      ]
     },
     "metadata": {
      "needs_background": "light"
     },
     "output_type": "display_data"
    }
   ],
   "source": [
    "#let's look at any random borough to see the general trend overtime\n",
    "properties_tidy[properties_tidy['boroughs']=='Bexley'].plot(x='date', y='avg_price', title='Bexley Average Prices vs Time')\n",
    "plt.show()"
   ]
  },
  {
   "cell_type": "markdown",
   "metadata": {
    "colab_type": "text",
    "id": "aWTPqSJeqHnC"
   },
   "source": [
    "To limit the number of data points you have, you might want to extract the year from every month value your *Month* column. \n",
    "\n",
    "To this end, you *could* apply a ***lambda function***. Your logic could work as follows:\n",
    "1. look through the `Month` column\n",
    "2. extract the year from each individual value in that column \n",
    "3. store that corresponding year as separate column. \n",
    "\n",
    "Whether you go ahead with this is up to you. Just so long as you answer our initial brief: which boroughs of London have seen the greatest house price increase, on average, over the past two decades? "
   ]
  },
  {
   "cell_type": "code",
   "execution_count": 104,
   "metadata": {
    "colab": {},
    "colab_type": "code",
    "id": "e0DF92cyqnu8"
   },
   "outputs": [
    {
     "data": {
      "text/html": [
       "<div>\n",
       "<style scoped>\n",
       "    .dataframe tbody tr th:only-of-type {\n",
       "        vertical-align: middle;\n",
       "    }\n",
       "\n",
       "    .dataframe tbody tr th {\n",
       "        vertical-align: top;\n",
       "    }\n",
       "\n",
       "    .dataframe thead th {\n",
       "        text-align: right;\n",
       "    }\n",
       "</style>\n",
       "<table border=\"1\" class=\"dataframe\">\n",
       "  <thead>\n",
       "    <tr style=\"text-align: right;\">\n",
       "      <th></th>\n",
       "      <th>boroughs</th>\n",
       "      <th>id</th>\n",
       "      <th>date</th>\n",
       "      <th>avg_price</th>\n",
       "      <th>year</th>\n",
       "    </tr>\n",
       "  </thead>\n",
       "  <tbody>\n",
       "    <tr>\n",
       "      <th>0</th>\n",
       "      <td>City of London</td>\n",
       "      <td>E09000001</td>\n",
       "      <td>1995-01-01</td>\n",
       "      <td>91448.98487</td>\n",
       "      <td>1995</td>\n",
       "    </tr>\n",
       "    <tr>\n",
       "      <th>1</th>\n",
       "      <td>Barking &amp; Dagenham</td>\n",
       "      <td>E09000002</td>\n",
       "      <td>1995-01-01</td>\n",
       "      <td>50460.22660</td>\n",
       "      <td>1995</td>\n",
       "    </tr>\n",
       "    <tr>\n",
       "      <th>2</th>\n",
       "      <td>Barnet</td>\n",
       "      <td>E09000003</td>\n",
       "      <td>1995-01-01</td>\n",
       "      <td>93284.51832</td>\n",
       "      <td>1995</td>\n",
       "    </tr>\n",
       "    <tr>\n",
       "      <th>3</th>\n",
       "      <td>Bexley</td>\n",
       "      <td>E09000004</td>\n",
       "      <td>1995-01-01</td>\n",
       "      <td>64958.09036</td>\n",
       "      <td>1995</td>\n",
       "    </tr>\n",
       "    <tr>\n",
       "      <th>4</th>\n",
       "      <td>Brent</td>\n",
       "      <td>E09000005</td>\n",
       "      <td>1995-01-01</td>\n",
       "      <td>71306.56698</td>\n",
       "      <td>1995</td>\n",
       "    </tr>\n",
       "  </tbody>\n",
       "</table>\n",
       "</div>"
      ],
      "text/plain": [
       "             boroughs         id       date    avg_price  year\n",
       "0      City of London  E09000001 1995-01-01  91448.98487  1995\n",
       "1  Barking & Dagenham  E09000002 1995-01-01  50460.22660  1995\n",
       "2              Barnet  E09000003 1995-01-01  93284.51832  1995\n",
       "3              Bexley  E09000004 1995-01-01  64958.09036  1995\n",
       "4               Brent  E09000005 1995-01-01  71306.56698  1995"
      ]
     },
     "execution_count": 104,
     "metadata": {},
     "output_type": "execute_result"
    }
   ],
   "source": [
    "properties_tidy['year'] = properties_tidy['date'].apply(lambda x: x.year)\n",
    "properties_tidy.head()"
   ]
  },
  {
   "cell_type": "markdown",
   "metadata": {
    "colab_type": "text",
    "id": "2knuTxAEqoJ4"
   },
   "source": [
    "**3. Modeling**\n",
    "\n",
    "Consider creating a function that will calculate a ratio of house prices, comparing the price of a house in 2018 to the price in 1998.\n",
    "\n",
    "Consider calling this function create_price_ratio.\n",
    "\n",
    "You'd want this function to:\n",
    "1. Take a filter of dfg, specifically where this filter constrains the London_Borough, as an argument. For example, one admissible argument should be: dfg[dfg['London_Borough']=='Camden'].\n",
    "2. Get the Average Price for that Borough, for the years 1998 and 2018.\n",
    "4. Calculate the ratio of the Average Price for 1998 divided by the Average Price for 2018.\n",
    "5. Return that ratio.\n",
    "\n",
    "Once you've written this function, you ultimately want to use it to iterate through all the unique London_Boroughs and work out the ratio capturing the difference of house prices between 1998 and 2018.\n",
    "\n",
    "Bear in mind: you don't have to write a function like this if you don't want to. If you can solve the brief otherwise, then great! \n",
    "\n",
    "***Hint***: This section should test the skills you acquired in:\n",
    "- Python Data Science Toolbox - Part One, all modules"
   ]
  },
  {
   "cell_type": "code",
   "execution_count": 105,
   "metadata": {
    "colab": {},
    "colab_type": "code",
    "id": "cKTyr437UgDa"
   },
   "outputs": [
    {
     "name": "stdout",
     "output_type": "stream",
     "text": [
      "             boroughs  year     avg_price\n",
      "0  Barking & Dagenham  1995  51817.969390\n",
      "1  Barking & Dagenham  1996  51718.192690\n",
      "2  Barking & Dagenham  1997  55974.262309\n",
      "3  Barking & Dagenham  1998  60285.821083\n",
      "4  Barking & Dagenham  1999  65320.934441\n",
      "<class 'pandas.core.frame.DataFrame'>\n",
      "RangeIndex: 1215 entries, 0 to 1214\n",
      "Data columns (total 3 columns):\n",
      " #   Column     Non-Null Count  Dtype  \n",
      "---  ------     --------------  -----  \n",
      " 0   boroughs   1215 non-null   object \n",
      " 1   year       1215 non-null   int64  \n",
      " 2   avg_price  1215 non-null   float64\n",
      "dtypes: float64(1), int64(1), object(1)\n",
      "memory usage: 28.6+ KB\n",
      "None\n"
     ]
    }
   ],
   "source": [
    "#Need dataset displaying average of house prices for each year for each borough\n",
    "avg_per_year = properties_tidy.groupby(['boroughs','year']).mean()\n",
    "avg_per_year = avg_per_year.reset_index()\n",
    "print(avg_per_year.head())\n",
    "print(avg_per_year.info())"
   ]
  },
  {
   "cell_type": "code",
   "execution_count": 106,
   "metadata": {},
   "outputs": [],
   "source": [
    "#Now, let's create our ratio function\n",
    "def create_price_ratio(df):\n",
    "    avg_1998 = df['avg_price'][df['year']==1998].values[0]\n",
    "    avg_2018 = df['avg_price'][df['year']==2018].values[0]\n",
    "    ratio = avg_2018/avg_1998\n",
    "    return([ratio])\n"
   ]
  },
  {
   "cell_type": "code",
   "execution_count": 107,
   "metadata": {},
   "outputs": [
    {
     "name": "stdout",
     "output_type": "stream",
     "text": [
      "{'Barking & Dagenham': [4.89661861291754], 'Barnet': [4.358195917538044], 'Bexley': [4.248977046127877], 'Brent': [4.8945544971392865], 'Bromley': [4.0947846853338765], 'Camden': [4.935353408884261], 'City of London': [5.301620377587609], 'Croydon': [4.201100280024767], 'EAST MIDLANDS': [3.6327346720877034], 'EAST OF ENGLAND': [4.166900547724156], 'Ealing': [4.311450902121834], 'Enfield': [4.26347158349581], 'England': [3.8104529783974], 'Greenwich': [4.763036347329193], 'Hackney': [6.198285561008662], 'Hammersmith & Fulham': [4.137798101936229], 'Haringey': [5.134624964136042], 'Harrow': [4.0591964329643195], 'Havering': [4.325230371335308], 'Hillingdon': [4.2002730803844575], 'Hounslow': [3.976409106143329], 'Inner London': [5.170857506254785], 'Islington': [4.844048012802298], 'Kensington & Chelsea': [5.082465066092464], 'Kingston upon Thames': [4.270549521484271], 'LONDON': [4.679776249632861], 'Lambeth': [4.957751163514063], 'Lewisham': [5.449221041059685], 'Merton': [4.741273313294604], 'NORTH EAST': [2.828080506434263], 'NORTH WEST': [3.3634156376540654], 'Newham': [5.305390437201879], 'Outer London': [4.418949809440314], 'Redbridge': [4.471182006097364], 'Richmond upon Thames': [4.005161895721457], 'SOUTH EAST': [3.8283877112840563], 'SOUTH WEST': [3.795497124092444], 'Southwark': [5.516485302379376], 'Sutton': [4.118522608573157], 'Tower Hamlets': [4.62670104006116], 'WEST MIDLANDS': [3.3112621931400104], 'Waltham Forest': [5.83475580932281], 'Wandsworth': [4.757709347739269], 'Westminster': [5.353565392605413], 'YORKS & THE HUMBER': [3.356065086028382]}\n"
     ]
    }
   ],
   "source": [
    "#We want to call this function on every unique borough in our avg_per_year dataset to get price ratio from each borough.\n",
    "#We can store this in a dictionary which can then be converted to a new dataframe to explore\n",
    "\n",
    "ratio_dic = {}\n",
    "for borough in avg_per_year['boroughs'].unique():\n",
    "    borough_subset = avg_per_year[avg_per_year['boroughs']==borough]\n",
    "    ratio_dic[borough] = create_price_ratio(borough_subset)\n",
    "\n",
    "print(ratio_dic)"
   ]
  },
  {
   "cell_type": "code",
   "execution_count": 108,
   "metadata": {},
   "outputs": [
    {
     "name": "stdout",
     "output_type": "stream",
     "text": [
      "             boroughs     ratio\n",
      "0  Barking & Dagenham  4.896619\n",
      "1              Barnet  4.358196\n",
      "2              Bexley  4.248977\n",
      "3               Brent  4.894554\n",
      "4             Bromley  4.094785\n"
     ]
    }
   ],
   "source": [
    "#Let's turn this ratios dictionary into a pandas dataframe and tidy it up!\n",
    "ratios = pd.DataFrame(ratio_dic)\n",
    "\n",
    "ratios_tidy = ratios.transpose().reset_index()\n",
    "\n",
    "ratios_tidy.rename(columns = {'index':'boroughs', 0:'ratio'}, inplace=True)\n",
    "print(ratios_tidy.head())"
   ]
  },
  {
   "cell_type": "code",
   "execution_count": 109,
   "metadata": {},
   "outputs": [
    {
     "name": "stdout",
     "output_type": "stream",
     "text": [
      "          boroughs     ratio\n",
      "14         Hackney  6.198286\n",
      "41  Waltham Forest  5.834756\n",
      "37       Southwark  5.516485\n",
      "27        Lewisham  5.449221\n",
      "43     Westminster  5.353565\n",
      "              boroughs     ratio\n",
      "8        EAST MIDLANDS  3.632735\n",
      "30          NORTH WEST  3.363416\n",
      "44  YORKS & THE HUMBER  3.356065\n",
      "40       WEST MIDLANDS  3.311262\n",
      "29          NORTH EAST  2.828081\n"
     ]
    }
   ],
   "source": [
    "#Finally, we can sort this DF and find which have the highest and lowest price ratios\n",
    "print(ratios_tidy.sort_values(by = 'ratio', ascending=False).head())\n",
    "print(ratios_tidy.sort_values(by = 'ratio', ascending=False).tail())"
   ]
  },
  {
   "cell_type": "markdown",
   "metadata": {
    "colab_type": "text",
    "id": "NzYUI7FxJpgv"
   },
   "source": [
    "### 4. Conclusion\n",
    "What can you conclude? Type out your conclusion below. \n",
    "\n",
    "    After calculating the ratio between the average house price per borough from 2018 and 1998, we found the boroughs with the highest ratios, in other the words the boroughs with the largest increase in average prices in the last two decades, to be Hackney, Waltham Forest, Southwark, Lewisham, and Westminister (in that order). We can see that these boroughs are the more desirable areas to live in London, depicted by this large increase in housing prices. \n",
    "\n",
    "    By contrast, the boroughs with the lowest increase in average prices in the last two decades are East Midlands, North West, Yorks & The Humber, West Midlands, and North East. These areas are most likely the least desirable areas to live in London, as the housing prices have not increased nearly as much as the top 5.\n",
    "\n",
    "Look back at your notebook. Think about how you might summarize what you have done, and prepare a quick presentation on it to your mentor at your next meeting. \n",
    "\n",
    "We hope you enjoyed this practical project. It should have consolidated your data hygiene and pandas skills by looking at a real-world problem involving just the kind of dataset you might encounter as a budding data scientist. Congratulations, and looking forward to seeing you at the next step in the course! "
   ]
  }
 ],
 "metadata": {
  "colab": {
   "collapsed_sections": [],
   "name": "Springboard Data Science Career Track Unit 4 Challenge - Tier 3 Complete .ipynb",
   "provenance": []
  },
  "kernelspec": {
   "display_name": "Python 3",
   "language": "python",
   "name": "python3"
  },
  "language_info": {
   "codemirror_mode": {
    "name": "ipython",
    "version": 3
   },
   "file_extension": ".py",
   "mimetype": "text/x-python",
   "name": "python",
   "nbconvert_exporter": "python",
   "pygments_lexer": "ipython3",
   "version": "3.8.8"
  }
 },
 "nbformat": 4,
 "nbformat_minor": 1
}
